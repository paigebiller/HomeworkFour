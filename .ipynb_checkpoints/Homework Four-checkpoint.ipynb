{
 "cells": [
  {
   "cell_type": "markdown",
   "metadata": {},
   "source": [
    "# Homework Four\n",
    "\n",
    "**Step 1:** \n",
    "\n",
    "\n",
    "Import the necessary modules (numpy, pandas, matplotlib.pyplot) and set jupyter to generate plots inline."
   ]
  },
  {
   "cell_type": "code",
   "execution_count": 20,
   "metadata": {
    "collapsed": true
   },
   "outputs": [],
   "source": [
    "%matplotlib inline\n",
    "\n",
    "import matplotlib.pyplot as plt\n",
    "import numpy as np\n",
    "import pandas as pd"
   ]
  },
  {
   "cell_type": "markdown",
   "metadata": {},
   "source": [
    "**Step 2:** \n",
    "\n",
    "Read in the iris data set and examine the head to make sure the data is in a usable format"
   ]
  },
  {
   "cell_type": "code",
   "execution_count": 21,
   "metadata": {
    "collapsed": false
   },
   "outputs": [
    {
     "data": {
      "text/html": [
       "<div>\n",
       "<table border=\"1\" class=\"dataframe\">\n",
       "  <thead>\n",
       "    <tr style=\"text-align: right;\">\n",
       "      <th></th>\n",
       "      <th>Sepal Length</th>\n",
       "      <th>Sepal Width</th>\n",
       "      <th>Petal Length</th>\n",
       "      <th>Petal Width</th>\n",
       "      <th>Species</th>\n",
       "    </tr>\n",
       "  </thead>\n",
       "  <tbody>\n",
       "    <tr>\n",
       "      <th>0</th>\n",
       "      <td>5.1</td>\n",
       "      <td>3.5</td>\n",
       "      <td>1.4</td>\n",
       "      <td>0.2</td>\n",
       "      <td>Iris-setosa</td>\n",
       "    </tr>\n",
       "    <tr>\n",
       "      <th>1</th>\n",
       "      <td>4.9</td>\n",
       "      <td>3.0</td>\n",
       "      <td>1.4</td>\n",
       "      <td>0.2</td>\n",
       "      <td>Iris-setosa</td>\n",
       "    </tr>\n",
       "    <tr>\n",
       "      <th>2</th>\n",
       "      <td>4.7</td>\n",
       "      <td>3.2</td>\n",
       "      <td>1.3</td>\n",
       "      <td>0.2</td>\n",
       "      <td>Iris-setosa</td>\n",
       "    </tr>\n",
       "    <tr>\n",
       "      <th>3</th>\n",
       "      <td>4.6</td>\n",
       "      <td>3.1</td>\n",
       "      <td>1.5</td>\n",
       "      <td>0.2</td>\n",
       "      <td>Iris-setosa</td>\n",
       "    </tr>\n",
       "    <tr>\n",
       "      <th>4</th>\n",
       "      <td>5.0</td>\n",
       "      <td>3.6</td>\n",
       "      <td>1.4</td>\n",
       "      <td>0.2</td>\n",
       "      <td>Iris-setosa</td>\n",
       "    </tr>\n",
       "  </tbody>\n",
       "</table>\n",
       "</div>"
      ],
      "text/plain": [
       "   Sepal Length  Sepal Width  Petal Length  Petal Width      Species\n",
       "0           5.1          3.5           1.4          0.2  Iris-setosa\n",
       "1           4.9          3.0           1.4          0.2  Iris-setosa\n",
       "2           4.7          3.2           1.3          0.2  Iris-setosa\n",
       "3           4.6          3.1           1.5          0.2  Iris-setosa\n",
       "4           5.0          3.6           1.4          0.2  Iris-setosa"
      ]
     },
     "execution_count": 21,
     "metadata": {},
     "output_type": "execute_result"
    }
   ],
   "source": [
    "irisdata = pd.read_csv('C:/Users/paigebiller/Documents/GitHub/HomeworkThree/iris.txt',\\\n",
    "                   sep=\",\", header = 0, names = ['Sepal Length','Sepal Width','Petal Length','Petal Width','Species'])\n",
    "\n",
    "irisdata.head()"
   ]
  },
  {
   "cell_type": "markdown",
   "metadata": {},
   "source": [
    "**Step 3:** \n",
    "\n",
    "Create a new (and reduced) data set consisting of only the PetalLength and PetalWidth columns"
   ]
  },
  {
   "cell_type": "code",
   "execution_count": 22,
   "metadata": {
    "collapsed": false
   },
   "outputs": [
    {
     "data": {
      "text/html": [
       "<div>\n",
       "<table border=\"1\" class=\"dataframe\">\n",
       "  <thead>\n",
       "    <tr style=\"text-align: right;\">\n",
       "      <th></th>\n",
       "      <th>Petal Length</th>\n",
       "      <th>Petal Width</th>\n",
       "    </tr>\n",
       "  </thead>\n",
       "  <tbody>\n",
       "    <tr>\n",
       "      <th>0</th>\n",
       "      <td>1.4</td>\n",
       "      <td>0.2</td>\n",
       "    </tr>\n",
       "    <tr>\n",
       "      <th>1</th>\n",
       "      <td>1.4</td>\n",
       "      <td>0.2</td>\n",
       "    </tr>\n",
       "    <tr>\n",
       "      <th>2</th>\n",
       "      <td>1.3</td>\n",
       "      <td>0.2</td>\n",
       "    </tr>\n",
       "    <tr>\n",
       "      <th>3</th>\n",
       "      <td>1.5</td>\n",
       "      <td>0.2</td>\n",
       "    </tr>\n",
       "    <tr>\n",
       "      <th>4</th>\n",
       "      <td>1.4</td>\n",
       "      <td>0.2</td>\n",
       "    </tr>\n",
       "  </tbody>\n",
       "</table>\n",
       "</div>"
      ],
      "text/plain": [
       "   Petal Length  Petal Width\n",
       "0           1.4          0.2\n",
       "1           1.4          0.2\n",
       "2           1.3          0.2\n",
       "3           1.5          0.2\n",
       "4           1.4          0.2"
      ]
     },
     "execution_count": 22,
     "metadata": {},
     "output_type": "execute_result"
    }
   ],
   "source": [
    "reducediris = irisdata.drop(irisdata.columns[[0, 1, 4]], axis=1) #axis=1 represents columns, axis=0 would mean rows\n",
    "\n",
    "reducediris.head()"
   ]
  },
  {
   "cell_type": "markdown",
   "metadata": {},
   "source": [
    "This newly reduced dataframe (reducediris) contains only the Petal Length and Petal Width columns for each of our 150 observations."
   ]
  },
  {
   "cell_type": "markdown",
   "metadata": {},
   "source": [
    "**Step 4:** \n",
    "\n",
    "Create a scatter plot of the reduced data set to make sure the data does not have any outliers or anomalies"
   ]
  },
  {
   "cell_type": "code",
   "execution_count": 23,
   "metadata": {
    "collapsed": false
   },
   "outputs": [
    {
     "data": {
      "image/png": "[encoded data removed]",
      "text/plain": [
       "<matplotlib.figure.Figure at 0x901e278>"
      ]
     },
     "metadata": {},
     "output_type": "display_data"
    },
    {
     "data": {
      "image/png": "[encoded data removed]",
      "text/plain": [
       "<matplotlib.figure.Figure at 0x901ef60>"
      ]
     },
     "metadata": {},
     "output_type": "display_data"
    }
   ],
   "source": [
    "reducediris.plot(kind='scatter', x='Petal Length', y='Petal Width',color='purple');\n",
    "reducediris.plot(kind='scatter', x='Petal Width', y='Petal Length',color='purple');"
   ]
  },
  {
   "cell_type": "markdown",
   "metadata": {},
   "source": [
    "Both scatter plots show a direct, positive relationship between Petal Length and Petal Width. \n",
    "\n",
    "While there is a \"gap\" in the data between (0.5, 2) and (1.0,3), the underlying relationship is still fairly consistent and linear, with minimal interference from anomalies or outliers, so we can move forward with the regression calculations.\n",
    "\n",
    "I have chosen to treat Petal Length as the independent (X) variable and Petal Width as the dependent (Y) variable."
   ]
  },
  {
   "cell_type": "markdown",
   "metadata": {},
   "source": [
    "**Step 5:** \n",
    "\n",
    "Implement the basic functions to create a regression model"
   ]
  },
  {
   "cell_type": "markdown",
   "metadata": {},
   "source": [
    "**Part 1:** \n",
    "Create a function to calculate the coefficients of a least squares approximation\n",
    "        \n",
    "The betacalc function takes two parameters: indepvar and depvar.\n",
    "\n",
    "In a simple linear regression, indepvar is an array of 1s followed by an array of the independent variable values for each observation in the dataset (150, in this case). The array of 1s represents X to the 0 power, to help us calculate the y-intercept in the regression equation (beta0). The x variable array helps us calculate the beta1 coefficient."
   ]
  },
  {
   "cell_type": "code",
   "execution_count": 24,
   "metadata": {
    "collapsed": true
   },
   "outputs": [],
   "source": [
    "def betacalc(indepvar,depvar):\n",
    "    beta = np.dot(np.dot(np.linalg.inv(np.dot(np.transpose(indepvar),indepvar)),np.transpose(indepvar)),depvar)\n",
    "    return beta"
   ]
  },
  {
   "cell_type": "code",
   "execution_count": 25,
   "metadata": {
    "collapsed": false
   },
   "outputs": [],
   "source": [
    "xvar = reducediris['Petal Length'].values #x variable values"
   ]
  },
  {
   "cell_type": "code",
   "execution_count": 26,
   "metadata": {
    "collapsed": false
   },
   "outputs": [],
   "source": [
    "unitxarray = np.repeat(1,150) #1 repeated down column of 150 observations"
   ]
  },
  {
   "cell_type": "code",
   "execution_count": 27,
   "metadata": {
    "collapsed": true
   },
   "outputs": [],
   "source": [
    "xmatrix = np.column_stack((unitxarray,xvar)) #combine our two arrays to create indepvar parameter"
   ]
  },
  {
   "cell_type": "code",
   "execution_count": 28,
   "metadata": {
    "collapsed": false
   },
   "outputs": [],
   "source": [
    "yvar = reducediris['Petal Width'].values #y variable values"
   ]
  },
  {
   "cell_type": "markdown",
   "metadata": {
    "collapsed": false
   },
   "source": [
    "**Part 2:** \n",
    "Create a function to use the least squares coefficients to predict the value of a given input point\n",
    "        \n",
    "The scoreregress function takes in one parameter, a datapoint. Because this is a simple linear regression, the datapoint is simply one x value, used to predict a corresponding y value. In our example, the datapoint would be the Petal Length, combined with each element of the betaarray that we calculated in the betacalc function to calculate the predicted Petal Width.\n",
    "\n",
    "betaarray[0] represents the y-intercept, with betaarray[1] representing the regression coefficient for Petal Length."
   ]
  },
  {
   "cell_type": "code",
   "execution_count": 29,
   "metadata": {
    "collapsed": false
   },
   "outputs": [
    {
     "name": "stdout",
     "output_type": "stream",
     "text": [
      "[-0.36651405  0.41641913]\n"
     ]
    }
   ],
   "source": [
    "irisbetas=betacalc(xmatrix,yvar) #calculates beta0 and beta1 for the irisdata Petal Length-Petal Width model\n",
    "\n",
    "print(irisbetas)"
   ]
  },
  {
   "cell_type": "markdown",
   "metadata": {},
   "source": [
    "For our data, the y-intercept is -0.3665 and the coefficient for Petal Length is 0.4164 (on average, the change in Petal Width for every one-unit change in Petal Length, all else equal)."
   ]
  },
  {
   "cell_type": "code",
   "execution_count": 30,
   "metadata": {
    "collapsed": false
   },
   "outputs": [
    {
     "name": "stdout",
     "output_type": "stream",
     "text": [
      "0.216472739983\n"
     ]
    }
   ],
   "source": [
    "def scoreregress(betaarray,datapointx):\n",
    "    predictvar= betaarray[0]+betaarray[1]*datapointx\n",
    "    return predictvar\n",
    "\n",
    "predictarray=scoreregress(irisbetas,1.4)\n",
    "\n",
    "print(predictarray)"
   ]
  },
  {
   "cell_type": "markdown",
   "metadata": {},
   "source": [
    "For an example datapoint with a Petal Length of 1.4, evaluating the scoreregress function using the beta0 and beta1 values from the betacalc function we created results in a predicted Petal Width of around 0.216.\n",
    "\n",
    "When we compare this result to our scatterplot from the previous steps, the results seem reasonable given the input data."
   ]
  },
  {
   "cell_type": "markdown",
   "metadata": {},
   "source": [
    "**Step 6:** \n",
    "\n",
    "Using your regression model, calculate the points along the regression line of the reduced data set\n",
    "\n",
    "\n",
    "We will feed in the Petal Length of each observation in the reduced dataframe to the scoreregress function to calculate the predicted Petal Width.\n",
    "\n",
    "We create an empty array with one row and two columns, to hold the x value and predicted y value (yhat) for each observation in the reducediris dataframe. We loop over each observation and append the results to the yhatarray, deleting the original observation (one row, two column shape). This gives us our final array, with shape (150,2)."
   ]
  },
  {
   "cell_type": "code",
   "execution_count": 31,
   "metadata": {
    "collapsed": false
   },
   "outputs": [
    {
     "data": {
      "text/plain": [
       "array([[ 1.4       ,  0.21647274],\n",
       "       [ 1.4       ,  0.21647274],\n",
       "       [ 1.3       ,  0.17483083],\n",
       "       [ 1.5       ,  0.25811465],\n",
       "       [ 1.4       ,  0.21647274],\n",
       "       [ 1.7       ,  0.34139848],\n",
       "       [ 1.4       ,  0.21647274],\n",
       "       [ 1.5       ,  0.25811465],\n",
       "       [ 1.4       ,  0.21647274],\n",
       "       [ 1.5       ,  0.25811465],\n",
       "       [ 1.5       ,  0.25811465],\n",
       "       [ 1.6       ,  0.29975657],\n",
       "       [ 1.4       ,  0.21647274],\n",
       "       [ 1.1       ,  0.091547  ],\n",
       "       [ 1.2       ,  0.13318891],\n",
       "       [ 1.5       ,  0.25811465],\n",
       "       [ 1.3       ,  0.17483083],\n",
       "       [ 1.4       ,  0.21647274],\n",
       "       [ 1.7       ,  0.34139848],\n",
       "       [ 1.5       ,  0.25811465],\n",
       "       [ 1.7       ,  0.34139848],\n",
       "       [ 1.5       ,  0.25811465],\n",
       "       [ 1.        ,  0.04990509],\n",
       "       [ 1.7       ,  0.34139848],\n",
       "       [ 1.9       ,  0.42468231],\n",
       "       [ 1.6       ,  0.29975657],\n",
       "       [ 1.6       ,  0.29975657],\n",
       "       [ 1.5       ,  0.25811465],\n",
       "       [ 1.4       ,  0.21647274],\n",
       "       [ 1.6       ,  0.29975657],\n",
       "       [ 1.6       ,  0.29975657],\n",
       "       [ 1.5       ,  0.25811465],\n",
       "       [ 1.5       ,  0.25811465],\n",
       "       [ 1.4       ,  0.21647274],\n",
       "       [ 1.5       ,  0.25811465],\n",
       "       [ 1.2       ,  0.13318891],\n",
       "       [ 1.3       ,  0.17483083],\n",
       "       [ 1.5       ,  0.25811465],\n",
       "       [ 1.3       ,  0.17483083],\n",
       "       [ 1.5       ,  0.25811465],\n",
       "       [ 1.3       ,  0.17483083],\n",
       "       [ 1.3       ,  0.17483083],\n",
       "       [ 1.3       ,  0.17483083],\n",
       "       [ 1.6       ,  0.29975657],\n",
       "       [ 1.9       ,  0.42468231],\n",
       "       [ 1.4       ,  0.21647274],\n",
       "       [ 1.6       ,  0.29975657],\n",
       "       [ 1.4       ,  0.21647274],\n",
       "       [ 1.5       ,  0.25811465],\n",
       "       [ 1.4       ,  0.21647274],\n",
       "       [ 4.7       ,  1.59065588],\n",
       "       [ 4.5       ,  1.50737205],\n",
       "       [ 4.9       ,  1.6739397 ],\n",
       "       [ 4.        ,  1.29916248],\n",
       "       [ 4.6       ,  1.54901396],\n",
       "       [ 4.5       ,  1.50737205],\n",
       "       [ 4.7       ,  1.59065588],\n",
       "       [ 3.3       ,  1.00766909],\n",
       "       [ 4.6       ,  1.54901396],\n",
       "       [ 3.9       ,  1.25752057],\n",
       "       [ 3.5       ,  1.09095292],\n",
       "       [ 4.2       ,  1.38244631],\n",
       "       [ 4.        ,  1.29916248],\n",
       "       [ 4.7       ,  1.59065588],\n",
       "       [ 3.6       ,  1.13259483],\n",
       "       [ 4.4       ,  1.46573014],\n",
       "       [ 4.5       ,  1.50737205],\n",
       "       [ 4.1       ,  1.3408044 ],\n",
       "       [ 4.5       ,  1.50737205],\n",
       "       [ 3.9       ,  1.25752057],\n",
       "       [ 4.8       ,  1.63229779],\n",
       "       [ 4.        ,  1.29916248],\n",
       "       [ 4.9       ,  1.6739397 ],\n",
       "       [ 4.7       ,  1.59065588],\n",
       "       [ 4.3       ,  1.42408822],\n",
       "       [ 4.4       ,  1.46573014],\n",
       "       [ 4.8       ,  1.63229779],\n",
       "       [ 5.        ,  1.71558162],\n",
       "       [ 4.5       ,  1.50737205],\n",
       "       [ 3.5       ,  1.09095292],\n",
       "       [ 3.8       ,  1.21587866],\n",
       "       [ 3.7       ,  1.17423674],\n",
       "       [ 3.9       ,  1.25752057],\n",
       "       [ 5.1       ,  1.75722353],\n",
       "       [ 4.5       ,  1.50737205],\n",
       "       [ 4.5       ,  1.50737205],\n",
       "       [ 4.7       ,  1.59065588],\n",
       "       [ 4.4       ,  1.46573014],\n",
       "       [ 4.1       ,  1.3408044 ],\n",
       "       [ 4.        ,  1.29916248],\n",
       "       [ 4.4       ,  1.46573014],\n",
       "       [ 4.6       ,  1.54901396],\n",
       "       [ 4.        ,  1.29916248],\n",
       "       [ 3.3       ,  1.00766909],\n",
       "       [ 4.2       ,  1.38244631],\n",
       "       [ 4.2       ,  1.38244631],\n",
       "       [ 4.2       ,  1.38244631],\n",
       "       [ 4.3       ,  1.42408822],\n",
       "       [ 3.        ,  0.88274335],\n",
       "       [ 4.1       ,  1.3408044 ],\n",
       "       [ 6.        ,  2.13200075],\n",
       "       [ 5.1       ,  1.75722353],\n",
       "       [ 5.9       ,  2.09035884],\n",
       "       [ 5.6       ,  1.9654331 ],\n",
       "       [ 5.8       ,  2.04871692],\n",
       "       [ 6.6       ,  2.38185223],\n",
       "       [ 4.5       ,  1.50737205],\n",
       "       [ 6.3       ,  2.25692649],\n",
       "       [ 5.8       ,  2.04871692],\n",
       "       [ 6.1       ,  2.17364266],\n",
       "       [ 5.1       ,  1.75722353],\n",
       "       [ 5.3       ,  1.84050736],\n",
       "       [ 5.5       ,  1.92379118],\n",
       "       [ 5.        ,  1.71558162],\n",
       "       [ 5.1       ,  1.75722353],\n",
       "       [ 5.3       ,  1.84050736],\n",
       "       [ 5.5       ,  1.92379118],\n",
       "       [ 6.7       ,  2.42349414],\n",
       "       [ 6.9       ,  2.50677797],\n",
       "       [ 5.        ,  1.71558162],\n",
       "       [ 5.7       ,  2.00707501],\n",
       "       [ 4.9       ,  1.6739397 ],\n",
       "       [ 6.7       ,  2.42349414],\n",
       "       [ 4.9       ,  1.6739397 ],\n",
       "       [ 5.7       ,  2.00707501],\n",
       "       [ 6.        ,  2.13200075],\n",
       "       [ 4.8       ,  1.63229779],\n",
       "       [ 4.9       ,  1.6739397 ],\n",
       "       [ 5.6       ,  1.9654331 ],\n",
       "       [ 5.8       ,  2.04871692],\n",
       "       [ 6.1       ,  2.17364266],\n",
       "       [ 6.4       ,  2.2985684 ],\n",
       "       [ 5.6       ,  1.9654331 ],\n",
       "       [ 5.1       ,  1.75722353],\n",
       "       [ 5.6       ,  1.9654331 ],\n",
       "       [ 6.1       ,  2.17364266],\n",
       "       [ 5.6       ,  1.9654331 ],\n",
       "       [ 5.5       ,  1.92379118],\n",
       "       [ 4.8       ,  1.63229779],\n",
       "       [ 5.4       ,  1.88214927],\n",
       "       [ 5.6       ,  1.9654331 ],\n",
       "       [ 5.1       ,  1.75722353],\n",
       "       [ 5.1       ,  1.75722353],\n",
       "       [ 5.9       ,  2.09035884],\n",
       "       [ 5.7       ,  2.00707501],\n",
       "       [ 5.2       ,  1.79886544],\n",
       "       [ 5.        ,  1.71558162],\n",
       "       [ 5.2       ,  1.79886544],\n",
       "       [ 5.4       ,  1.88214927],\n",
       "       [ 5.1       ,  1.75722353]])"
      ]
     },
     "execution_count": 31,
     "metadata": {},
     "output_type": "execute_result"
    }
   ],
   "source": [
    "yhatarray = np.empty(shape=[1,2])\n",
    "\n",
    "for x in reducediris['Petal Length']:\n",
    "    yhat = scoreregress(irisbetas,x)\n",
    "    yhatarray = np.vstack([yhatarray, [x, yhat]])\n",
    "    \n",
    "yhatarray = np.delete(yhatarray,0,0)\n",
    "\n",
    "yhatarray"
   ]
  },
  {
   "cell_type": "markdown",
   "metadata": {},
   "source": [
    "**Step 7:** \n",
    "\n",
    "Plot the regression line on top of a scatter plot of the reduced data set (you will need to remove duplicate X values to get matplotlib to draw an actual line)"
   ]
  },
  {
   "cell_type": "code",
   "execution_count": 36,
   "metadata": {
    "collapsed": false
   },
   "outputs": [
    {
     "data": {
      "image/png": "[encoded data removed]",
      "text/plain": [
       "<matplotlib.figure.Figure at 0xb36bf98>"
      ]
     },
     "metadata": {},
     "output_type": "display_data"
    }
   ],
   "source": [
    "yhat = pd.DataFrame(data=yhatarray[0:,0:])\n",
    "yhat = yhat.drop_duplicates()\n",
    "\n",
    "plt.scatter(reducediris['Petal Length'], reducediris['Petal Width'],color='purple')\n",
    "plt.plot(yhat[0],yhat[1])\n",
    "plt.xlabel(\"Petal Length (indepvar)\")\n",
    "plt.ylabel(\"Petal Width (depvar)\")\n",
    "plt.show()"
   ]
  },
  {
   "cell_type": "markdown",
   "metadata": {
    "collapsed": false
   },
   "source": [
    "Our final output shows that the regression line is fitted well to the data, showing a positive, direct correlation between Petal Length and Petal Width with the added detail of the slope of ~.416 and a y-intercept of -0.367. \n",
    "\n",
    "We can use these coefficients to predict the Petal Width of a given iris flower, given its Petal Length, for the species in the scope of the data we used to create the model. \n",
    "\n",
    "We should be careful not to extrapolate to species or measurements widely outside the scope of the input dataset for prediction."
   ]
  }
 ],
 "metadata": {
  "kernelspec": {
   "display_name": "Python [default]",
   "language": "python",
   "name": "python3"
  },
  "language_info": {
   "codemirror_mode": {
    "name": "ipython",
    "version": 3
   },
   "file_extension": ".py",
   "mimetype": "text/x-python",
   "name": "python",
   "nbconvert_exporter": "python",
   "pygments_lexer": "ipython3",
   "version": "3.5.2"
  }
 },
 "nbformat": 4,
 "nbformat_minor": 1
}
