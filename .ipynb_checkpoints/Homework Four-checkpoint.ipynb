{
 "cells": [
  {
   "cell_type": "markdown",
   "metadata": {},
   "source": [
    "# Homework Four\n",
    "\n",
    "**Step 1:** \n",
    "\n",
    "\n",
    "Import the necessary modules (numpy, pandas, matplotlib.pyplot) and set jupyter to generate plots inline."
   ]
  },
  {
   "cell_type": "code",
   "execution_count": 28,
   "metadata": {
    "collapsed": true
   },
   "outputs": [],
   "source": [
    "%matplotlib inline\n",
    "\n",
    "import matplotlib.pyplot as plt\n",
    "import numpy as np\n",
    "import pandas as pd"
   ]
  },
  {
   "cell_type": "markdown",
   "metadata": {},
   "source": [
    "**Step 2:** \n",
    "\n",
    "Read in the iris data set and examine the head to make sure the data is in a usable format"
   ]
  },
  {
   "cell_type": "code",
   "execution_count": 29,
   "metadata": {
    "collapsed": false
   },
   "outputs": [
    {
     "data": {
      "text/html": [
       "<div>\n",
       "<table border=\"1\" class=\"dataframe\">\n",
       "  <thead>\n",
       "    <tr style=\"text-align: right;\">\n",
       "      <th></th>\n",
       "      <th>Sepal Length</th>\n",
       "      <th>Sepal Width</th>\n",
       "      <th>Petal Length</th>\n",
       "      <th>Petal Width</th>\n",
       "      <th>Species</th>\n",
       "    </tr>\n",
       "  </thead>\n",
       "  <tbody>\n",
       "    <tr>\n",
       "      <th>0</th>\n",
       "      <td>5.1</td>\n",
       "      <td>3.5</td>\n",
       "      <td>1.4</td>\n",
       "      <td>0.2</td>\n",
       "      <td>Iris-setosa</td>\n",
       "    </tr>\n",
       "    <tr>\n",
       "      <th>1</th>\n",
       "      <td>4.9</td>\n",
       "      <td>3.0</td>\n",
       "      <td>1.4</td>\n",
       "      <td>0.2</td>\n",
       "      <td>Iris-setosa</td>\n",
       "    </tr>\n",
       "    <tr>\n",
       "      <th>2</th>\n",
       "      <td>4.7</td>\n",
       "      <td>3.2</td>\n",
       "      <td>1.3</td>\n",
       "      <td>0.2</td>\n",
       "      <td>Iris-setosa</td>\n",
       "    </tr>\n",
       "    <tr>\n",
       "      <th>3</th>\n",
       "      <td>4.6</td>\n",
       "      <td>3.1</td>\n",
       "      <td>1.5</td>\n",
       "      <td>0.2</td>\n",
       "      <td>Iris-setosa</td>\n",
       "    </tr>\n",
       "    <tr>\n",
       "      <th>4</th>\n",
       "      <td>5.0</td>\n",
       "      <td>3.6</td>\n",
       "      <td>1.4</td>\n",
       "      <td>0.2</td>\n",
       "      <td>Iris-setosa</td>\n",
       "    </tr>\n",
       "  </tbody>\n",
       "</table>\n",
       "</div>"
      ],
      "text/plain": [
       "   Sepal Length  Sepal Width  Petal Length  Petal Width      Species\n",
       "0           5.1          3.5           1.4          0.2  Iris-setosa\n",
       "1           4.9          3.0           1.4          0.2  Iris-setosa\n",
       "2           4.7          3.2           1.3          0.2  Iris-setosa\n",
       "3           4.6          3.1           1.5          0.2  Iris-setosa\n",
       "4           5.0          3.6           1.4          0.2  Iris-setosa"
      ]
     },
     "execution_count": 29,
     "metadata": {},
     "output_type": "execute_result"
    }
   ],
   "source": [
    "irisdata = pd.read_csv('C:/Users/paigebiller/Documents/GitHub/HomeworkThree/iris.txt',\\\n",
    "                   sep=\",\", header = 0, names = ['Sepal Length','Sepal Width','Petal Length','Petal Width','Species'])\n",
    "\n",
    "irisdata.head()"
   ]
  },
  {
   "cell_type": "markdown",
   "metadata": {},
   "source": [
    "**Step 3:** \n",
    "\n",
    "Create a new (and reduced) data set consisting of only the PetalLength and PetalWidth columns"
   ]
  },
  {
   "cell_type": "code",
   "execution_count": 30,
   "metadata": {
    "collapsed": false
   },
   "outputs": [
    {
     "data": {
      "text/html": [
       "<div>\n",
       "<table border=\"1\" class=\"dataframe\">\n",
       "  <thead>\n",
       "    <tr style=\"text-align: right;\">\n",
       "      <th></th>\n",
       "      <th>Petal Length</th>\n",
       "      <th>Petal Width</th>\n",
       "    </tr>\n",
       "  </thead>\n",
       "  <tbody>\n",
       "    <tr>\n",
       "      <th>0</th>\n",
       "      <td>1.4</td>\n",
       "      <td>0.2</td>\n",
       "    </tr>\n",
       "    <tr>\n",
       "      <th>1</th>\n",
       "      <td>1.4</td>\n",
       "      <td>0.2</td>\n",
       "    </tr>\n",
       "    <tr>\n",
       "      <th>2</th>\n",
       "      <td>1.3</td>\n",
       "      <td>0.2</td>\n",
       "    </tr>\n",
       "    <tr>\n",
       "      <th>3</th>\n",
       "      <td>1.5</td>\n",
       "      <td>0.2</td>\n",
       "    </tr>\n",
       "    <tr>\n",
       "      <th>4</th>\n",
       "      <td>1.4</td>\n",
       "      <td>0.2</td>\n",
       "    </tr>\n",
       "  </tbody>\n",
       "</table>\n",
       "</div>"
      ],
      "text/plain": [
       "   Petal Length  Petal Width\n",
       "0           1.4          0.2\n",
       "1           1.4          0.2\n",
       "2           1.3          0.2\n",
       "3           1.5          0.2\n",
       "4           1.4          0.2"
      ]
     },
     "execution_count": 30,
     "metadata": {},
     "output_type": "execute_result"
    }
   ],
   "source": [
    "reducediris = irisdata.drop(irisdata.columns[[0, 1, 4]], axis=1) #axis=1 represents columns, axis=0 would mean rows\n",
    "\n",
    "reducediris.head()"
   ]
  },
  {
   "cell_type": "code",
   "execution_count": 31,
   "metadata": {
    "collapsed": false
   },
   "outputs": [
    {
     "data": {
      "image/png": "[encoded data removed]",
      "text/plain": [
       "<matplotlib.figure.Figure at 0x8f8c400>"
      ]
     },
     "metadata": {},
     "output_type": "display_data"
    },
    {
     "data": {
      "image/png": "[encoded data removed]",
      "text/plain": [
       "<matplotlib.figure.Figure at 0x8f8cd68>"
      ]
     },
     "metadata": {},
     "output_type": "display_data"
    }
   ],
   "source": [
    "reducediris.plot(kind='scatter', x='Petal Length', y='Petal Width');\n",
    "reducediris.plot(kind='scatter', x='Petal Width', y='Petal Length');"
   ]
  },
  {
   "cell_type": "code",
   "execution_count": 32,
   "metadata": {
    "collapsed": false
   },
   "outputs": [],
   "source": [
    "xvar = reducediris['Petal Length'].values"
   ]
  },
  {
   "cell_type": "code",
   "execution_count": 33,
   "metadata": {
    "collapsed": false
   },
   "outputs": [],
   "source": [
    "unitxarray = np.repeat(1,150)"
   ]
  },
  {
   "cell_type": "code",
   "execution_count": 34,
   "metadata": {
    "collapsed": true
   },
   "outputs": [],
   "source": [
    "yvar = reducediris['Petal Width'].values"
   ]
  },
  {
   "cell_type": "code",
   "execution_count": 35,
   "metadata": {
    "collapsed": false
   },
   "outputs": [
    {
     "name": "stdout",
     "output_type": "stream",
     "text": [
      "[[ 1.   1.4]\n",
      " [ 1.   1.4]\n",
      " [ 1.   1.3]\n",
      " [ 1.   1.5]\n",
      " [ 1.   1.4]\n",
      " [ 1.   1.7]\n",
      " [ 1.   1.4]\n",
      " [ 1.   1.5]\n",
      " [ 1.   1.4]\n",
      " [ 1.   1.5]\n",
      " [ 1.   1.5]\n",
      " [ 1.   1.6]\n",
      " [ 1.   1.4]\n",
      " [ 1.   1.1]\n",
      " [ 1.   1.2]\n",
      " [ 1.   1.5]\n",
      " [ 1.   1.3]\n",
      " [ 1.   1.4]\n",
      " [ 1.   1.7]\n",
      " [ 1.   1.5]\n",
      " [ 1.   1.7]\n",
      " [ 1.   1.5]\n",
      " [ 1.   1. ]\n",
      " [ 1.   1.7]\n",
      " [ 1.   1.9]\n",
      " [ 1.   1.6]\n",
      " [ 1.   1.6]\n",
      " [ 1.   1.5]\n",
      " [ 1.   1.4]\n",
      " [ 1.   1.6]\n",
      " [ 1.   1.6]\n",
      " [ 1.   1.5]\n",
      " [ 1.   1.5]\n",
      " [ 1.   1.4]\n",
      " [ 1.   1.5]\n",
      " [ 1.   1.2]\n",
      " [ 1.   1.3]\n",
      " [ 1.   1.5]\n",
      " [ 1.   1.3]\n",
      " [ 1.   1.5]\n",
      " [ 1.   1.3]\n",
      " [ 1.   1.3]\n",
      " [ 1.   1.3]\n",
      " [ 1.   1.6]\n",
      " [ 1.   1.9]\n",
      " [ 1.   1.4]\n",
      " [ 1.   1.6]\n",
      " [ 1.   1.4]\n",
      " [ 1.   1.5]\n",
      " [ 1.   1.4]\n",
      " [ 1.   4.7]\n",
      " [ 1.   4.5]\n",
      " [ 1.   4.9]\n",
      " [ 1.   4. ]\n",
      " [ 1.   4.6]\n",
      " [ 1.   4.5]\n",
      " [ 1.   4.7]\n",
      " [ 1.   3.3]\n",
      " [ 1.   4.6]\n",
      " [ 1.   3.9]\n",
      " [ 1.   3.5]\n",
      " [ 1.   4.2]\n",
      " [ 1.   4. ]\n",
      " [ 1.   4.7]\n",
      " [ 1.   3.6]\n",
      " [ 1.   4.4]\n",
      " [ 1.   4.5]\n",
      " [ 1.   4.1]\n",
      " [ 1.   4.5]\n",
      " [ 1.   3.9]\n",
      " [ 1.   4.8]\n",
      " [ 1.   4. ]\n",
      " [ 1.   4.9]\n",
      " [ 1.   4.7]\n",
      " [ 1.   4.3]\n",
      " [ 1.   4.4]\n",
      " [ 1.   4.8]\n",
      " [ 1.   5. ]\n",
      " [ 1.   4.5]\n",
      " [ 1.   3.5]\n",
      " [ 1.   3.8]\n",
      " [ 1.   3.7]\n",
      " [ 1.   3.9]\n",
      " [ 1.   5.1]\n",
      " [ 1.   4.5]\n",
      " [ 1.   4.5]\n",
      " [ 1.   4.7]\n",
      " [ 1.   4.4]\n",
      " [ 1.   4.1]\n",
      " [ 1.   4. ]\n",
      " [ 1.   4.4]\n",
      " [ 1.   4.6]\n",
      " [ 1.   4. ]\n",
      " [ 1.   3.3]\n",
      " [ 1.   4.2]\n",
      " [ 1.   4.2]\n",
      " [ 1.   4.2]\n",
      " [ 1.   4.3]\n",
      " [ 1.   3. ]\n",
      " [ 1.   4.1]\n",
      " [ 1.   6. ]\n",
      " [ 1.   5.1]\n",
      " [ 1.   5.9]\n",
      " [ 1.   5.6]\n",
      " [ 1.   5.8]\n",
      " [ 1.   6.6]\n",
      " [ 1.   4.5]\n",
      " [ 1.   6.3]\n",
      " [ 1.   5.8]\n",
      " [ 1.   6.1]\n",
      " [ 1.   5.1]\n",
      " [ 1.   5.3]\n",
      " [ 1.   5.5]\n",
      " [ 1.   5. ]\n",
      " [ 1.   5.1]\n",
      " [ 1.   5.3]\n",
      " [ 1.   5.5]\n",
      " [ 1.   6.7]\n",
      " [ 1.   6.9]\n",
      " [ 1.   5. ]\n",
      " [ 1.   5.7]\n",
      " [ 1.   4.9]\n",
      " [ 1.   6.7]\n",
      " [ 1.   4.9]\n",
      " [ 1.   5.7]\n",
      " [ 1.   6. ]\n",
      " [ 1.   4.8]\n",
      " [ 1.   4.9]\n",
      " [ 1.   5.6]\n",
      " [ 1.   5.8]\n",
      " [ 1.   6.1]\n",
      " [ 1.   6.4]\n",
      " [ 1.   5.6]\n",
      " [ 1.   5.1]\n",
      " [ 1.   5.6]\n",
      " [ 1.   6.1]\n",
      " [ 1.   5.6]\n",
      " [ 1.   5.5]\n",
      " [ 1.   4.8]\n",
      " [ 1.   5.4]\n",
      " [ 1.   5.6]\n",
      " [ 1.   5.1]\n",
      " [ 1.   5.1]\n",
      " [ 1.   5.9]\n",
      " [ 1.   5.7]\n",
      " [ 1.   5.2]\n",
      " [ 1.   5. ]\n",
      " [ 1.   5.2]\n",
      " [ 1.   5.4]\n",
      " [ 1.   5.1]]\n"
     ]
    }
   ],
   "source": [
    "xmatrix = np.column_stack((unitxarray,xvar))\n",
    "print(xmatrix)"
   ]
  },
  {
   "cell_type": "code",
   "execution_count": 36,
   "metadata": {
    "collapsed": false
   },
   "outputs": [],
   "source": [
    "def betacalc(indepvar,depvar):\n",
    "    beta = np.dot(np.dot(np.linalg.inv(np.dot(np.transpose(indepvar),indepvar)),np.transpose(indepvar)),depvar)\n",
    "    return beta"
   ]
  },
  {
   "cell_type": "code",
   "execution_count": 37,
   "metadata": {
    "collapsed": false
   },
   "outputs": [
    {
     "name": "stdout",
     "output_type": "stream",
     "text": [
      "[-0.36651405  0.41641913]\n"
     ]
    }
   ],
   "source": [
    "betaarray=betacalc(xmatrix,yvar)\n",
    "\n",
    "print(betaarray)"
   ]
  },
  {
   "cell_type": "code",
   "execution_count": 38,
   "metadata": {
    "collapsed": false
   },
   "outputs": [
    {
     "name": "stdout",
     "output_type": "stream",
     "text": [
      "0.216472739983\n"
     ]
    }
   ],
   "source": [
    "def scoreregress(datapointx):\n",
    "    predictvar= betaarray[0]+betaarray[1]*datapointx\n",
    "    return predictvar\n",
    "\n",
    "predictarray=scoreregress(1.4)\n",
    "\n",
    "print(predictarray)"
   ]
  },
  {
   "cell_type": "code",
   "execution_count": 39,
   "metadata": {
    "collapsed": false
   },
   "outputs": [
    {
     "data": {
      "text/plain": [
       "array([[ 1.4       ,  0.21647274],\n",
       "       [ 1.4       ,  0.21647274],\n",
       "       [ 1.3       ,  0.17483083],\n",
       "       [ 1.5       ,  0.25811465],\n",
       "       [ 1.4       ,  0.21647274],\n",
       "       [ 1.7       ,  0.34139848],\n",
       "       [ 1.4       ,  0.21647274],\n",
       "       [ 1.5       ,  0.25811465],\n",
       "       [ 1.4       ,  0.21647274],\n",
       "       [ 1.5       ,  0.25811465],\n",
       "       [ 1.5       ,  0.25811465],\n",
       "       [ 1.6       ,  0.29975657],\n",
       "       [ 1.4       ,  0.21647274],\n",
       "       [ 1.1       ,  0.091547  ],\n",
       "       [ 1.2       ,  0.13318891],\n",
       "       [ 1.5       ,  0.25811465],\n",
       "       [ 1.3       ,  0.17483083],\n",
       "       [ 1.4       ,  0.21647274],\n",
       "       [ 1.7       ,  0.34139848],\n",
       "       [ 1.5       ,  0.25811465],\n",
       "       [ 1.7       ,  0.34139848],\n",
       "       [ 1.5       ,  0.25811465],\n",
       "       [ 1.        ,  0.04990509],\n",
       "       [ 1.7       ,  0.34139848],\n",
       "       [ 1.9       ,  0.42468231],\n",
       "       [ 1.6       ,  0.29975657],\n",
       "       [ 1.6       ,  0.29975657],\n",
       "       [ 1.5       ,  0.25811465],\n",
       "       [ 1.4       ,  0.21647274],\n",
       "       [ 1.6       ,  0.29975657],\n",
       "       [ 1.6       ,  0.29975657],\n",
       "       [ 1.5       ,  0.25811465],\n",
       "       [ 1.5       ,  0.25811465],\n",
       "       [ 1.4       ,  0.21647274],\n",
       "       [ 1.5       ,  0.25811465],\n",
       "       [ 1.2       ,  0.13318891],\n",
       "       [ 1.3       ,  0.17483083],\n",
       "       [ 1.5       ,  0.25811465],\n",
       "       [ 1.3       ,  0.17483083],\n",
       "       [ 1.5       ,  0.25811465],\n",
       "       [ 1.3       ,  0.17483083],\n",
       "       [ 1.3       ,  0.17483083],\n",
       "       [ 1.3       ,  0.17483083],\n",
       "       [ 1.6       ,  0.29975657],\n",
       "       [ 1.9       ,  0.42468231],\n",
       "       [ 1.4       ,  0.21647274],\n",
       "       [ 1.6       ,  0.29975657],\n",
       "       [ 1.4       ,  0.21647274],\n",
       "       [ 1.5       ,  0.25811465],\n",
       "       [ 1.4       ,  0.21647274],\n",
       "       [ 4.7       ,  1.59065588],\n",
       "       [ 4.5       ,  1.50737205],\n",
       "       [ 4.9       ,  1.6739397 ],\n",
       "       [ 4.        ,  1.29916248],\n",
       "       [ 4.6       ,  1.54901396],\n",
       "       [ 4.5       ,  1.50737205],\n",
       "       [ 4.7       ,  1.59065588],\n",
       "       [ 3.3       ,  1.00766909],\n",
       "       [ 4.6       ,  1.54901396],\n",
       "       [ 3.9       ,  1.25752057],\n",
       "       [ 3.5       ,  1.09095292],\n",
       "       [ 4.2       ,  1.38244631],\n",
       "       [ 4.        ,  1.29916248],\n",
       "       [ 4.7       ,  1.59065588],\n",
       "       [ 3.6       ,  1.13259483],\n",
       "       [ 4.4       ,  1.46573014],\n",
       "       [ 4.5       ,  1.50737205],\n",
       "       [ 4.1       ,  1.3408044 ],\n",
       "       [ 4.5       ,  1.50737205],\n",
       "       [ 3.9       ,  1.25752057],\n",
       "       [ 4.8       ,  1.63229779],\n",
       "       [ 4.        ,  1.29916248],\n",
       "       [ 4.9       ,  1.6739397 ],\n",
       "       [ 4.7       ,  1.59065588],\n",
       "       [ 4.3       ,  1.42408822],\n",
       "       [ 4.4       ,  1.46573014],\n",
       "       [ 4.8       ,  1.63229779],\n",
       "       [ 5.        ,  1.71558162],\n",
       "       [ 4.5       ,  1.50737205],\n",
       "       [ 3.5       ,  1.09095292],\n",
       "       [ 3.8       ,  1.21587866],\n",
       "       [ 3.7       ,  1.17423674],\n",
       "       [ 3.9       ,  1.25752057],\n",
       "       [ 5.1       ,  1.75722353],\n",
       "       [ 4.5       ,  1.50737205],\n",
       "       [ 4.5       ,  1.50737205],\n",
       "       [ 4.7       ,  1.59065588],\n",
       "       [ 4.4       ,  1.46573014],\n",
       "       [ 4.1       ,  1.3408044 ],\n",
       "       [ 4.        ,  1.29916248],\n",
       "       [ 4.4       ,  1.46573014],\n",
       "       [ 4.6       ,  1.54901396],\n",
       "       [ 4.        ,  1.29916248],\n",
       "       [ 3.3       ,  1.00766909],\n",
       "       [ 4.2       ,  1.38244631],\n",
       "       [ 4.2       ,  1.38244631],\n",
       "       [ 4.2       ,  1.38244631],\n",
       "       [ 4.3       ,  1.42408822],\n",
       "       [ 3.        ,  0.88274335],\n",
       "       [ 4.1       ,  1.3408044 ],\n",
       "       [ 6.        ,  2.13200075],\n",
       "       [ 5.1       ,  1.75722353],\n",
       "       [ 5.9       ,  2.09035884],\n",
       "       [ 5.6       ,  1.9654331 ],\n",
       "       [ 5.8       ,  2.04871692],\n",
       "       [ 6.6       ,  2.38185223],\n",
       "       [ 4.5       ,  1.50737205],\n",
       "       [ 6.3       ,  2.25692649],\n",
       "       [ 5.8       ,  2.04871692],\n",
       "       [ 6.1       ,  2.17364266],\n",
       "       [ 5.1       ,  1.75722353],\n",
       "       [ 5.3       ,  1.84050736],\n",
       "       [ 5.5       ,  1.92379118],\n",
       "       [ 5.        ,  1.71558162],\n",
       "       [ 5.1       ,  1.75722353],\n",
       "       [ 5.3       ,  1.84050736],\n",
       "       [ 5.5       ,  1.92379118],\n",
       "       [ 6.7       ,  2.42349414],\n",
       "       [ 6.9       ,  2.50677797],\n",
       "       [ 5.        ,  1.71558162],\n",
       "       [ 5.7       ,  2.00707501],\n",
       "       [ 4.9       ,  1.6739397 ],\n",
       "       [ 6.7       ,  2.42349414],\n",
       "       [ 4.9       ,  1.6739397 ],\n",
       "       [ 5.7       ,  2.00707501],\n",
       "       [ 6.        ,  2.13200075],\n",
       "       [ 4.8       ,  1.63229779],\n",
       "       [ 4.9       ,  1.6739397 ],\n",
       "       [ 5.6       ,  1.9654331 ],\n",
       "       [ 5.8       ,  2.04871692],\n",
       "       [ 6.1       ,  2.17364266],\n",
       "       [ 6.4       ,  2.2985684 ],\n",
       "       [ 5.6       ,  1.9654331 ],\n",
       "       [ 5.1       ,  1.75722353],\n",
       "       [ 5.6       ,  1.9654331 ],\n",
       "       [ 6.1       ,  2.17364266],\n",
       "       [ 5.6       ,  1.9654331 ],\n",
       "       [ 5.5       ,  1.92379118],\n",
       "       [ 4.8       ,  1.63229779],\n",
       "       [ 5.4       ,  1.88214927],\n",
       "       [ 5.6       ,  1.9654331 ],\n",
       "       [ 5.1       ,  1.75722353],\n",
       "       [ 5.1       ,  1.75722353],\n",
       "       [ 5.9       ,  2.09035884],\n",
       "       [ 5.7       ,  2.00707501],\n",
       "       [ 5.2       ,  1.79886544],\n",
       "       [ 5.        ,  1.71558162],\n",
       "       [ 5.2       ,  1.79886544],\n",
       "       [ 5.4       ,  1.88214927],\n",
       "       [ 5.1       ,  1.75722353]])"
      ]
     },
     "execution_count": 39,
     "metadata": {},
     "output_type": "execute_result"
    }
   ],
   "source": [
    "expected_Petal_Width = np.array([0,0])\n",
    "  \n",
    "for i in reducediris['Petal Length']:\n",
    "    expected_value = scoreregress(i)\n",
    "    expected_Petal_Width = np.vstack([expected_Petal_Width, [i, expected_value]])\n",
    "\n",
    "#delete the first observation in the array that we created to initialize\n",
    "expected_Petal_Width = np.delete(expected_Petal_Width, 0, 0)\n",
    "\n",
    "expected_Petal_Width"
   ]
  },
  {
   "cell_type": "code",
   "execution_count": 40,
   "metadata": {
    "collapsed": false
   },
   "outputs": [
    {
     "data": {
      "image/png": "[encoded data removed]",
      "text/plain": [
       "<matplotlib.figure.Figure at 0x9a3eeb8>"
      ]
     },
     "metadata": {},
     "output_type": "display_data"
    }
   ],
   "source": [
    "#Change from Numpy array into DataFrame\n",
    "data = pd.DataFrame(data = expected_Petal_Width[0:,0:])\n",
    "#Remove duplicate rows\n",
    "data = data.drop_duplicates()\n",
    "\n",
    "#creat scatter plot with regression line fitted on top\n",
    "plt.scatter(reducediris['Petal Length'], reducediris['Petal Width'])\n",
    "plt.plot(data[0],data[1])\n",
    "plt.show()"
   ]
  },
  {
   "cell_type": "code",
   "execution_count": null,
   "metadata": {
    "collapsed": false
   },
   "outputs": [],
   "source": []
  },
  {
   "cell_type": "code",
   "execution_count": null,
   "metadata": {
    "collapsed": false
   },
   "outputs": [],
   "source": []
  }
 ],
 "metadata": {
  "kernelspec": {
   "display_name": "Python [default]",
   "language": "python",
   "name": "python3"
  },
  "language_info": {
   "codemirror_mode": {
    "name": "ipython",
    "version": 3
   },
   "file_extension": ".py",
   "mimetype": "text/x-python",
   "name": "python",
   "nbconvert_exporter": "python",
   "pygments_lexer": "ipython3",
   "version": "3.5.2"
  }
 },
 "nbformat": 4,
 "nbformat_minor": 1
}
